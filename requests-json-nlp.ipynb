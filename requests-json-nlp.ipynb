{
 "cells": [
  {
   "cell_type": "markdown",
   "metadata": {},
   "source": [
    "# Web Mining and Applied NLP (44-620)\n",
    "\n",
    "## Requests, JSON, and NLP\n",
    "\n",
    "### Student Name: Desiree Blake https://github.com/dblake26/json-sentiment \n",
    "\n",
    "Perform the tasks described in the Markdown cells below.  When you have completed the assignment make sure your code cells have all been run (and have output beneath them) and ensure you have committed and pushed ALL of your changes to your assignment repository.\n",
    "\n",
    "Make sure you have [installed spaCy and its pipeline](https://spacy.io/usage#quickstart) and [spaCyTextBlob](https://spacy.io/universe/project/spacy-textblob)\n",
    "\n",
    "Every question that requires you to write code will have a code cell underneath it; you may either write your entire solution in that cell or write it in a python file (`.py`), then import and run the appropriate code to answer the question.\n",
    "\n",
    "This assignment requires that you write additional files (either JSON or pickle files); make sure to submit those files in your repository as well."
   ]
  },
  {
   "cell_type": "code",
   "execution_count": 21,
   "metadata": {},
   "outputs": [
    {
     "name": "stdout",
     "output_type": "stream",
     "text": [
      "All prereqs installed.\n",
      "Package                  Version\n",
      "------------------------ -----------\n",
      "annotated-types          0.6.0\n",
      "anyio                    3.6.2\n",
      "argon2-cffi              21.3.0\n",
      "argon2-cffi-bindings     21.2.0\n",
      "arrow                    1.2.3\n",
      "asttokens                2.2.1\n",
      "async-lru                2.0.2\n",
      "attrs                    23.1.0\n",
      "Babel                    2.12.1\n",
      "backcall                 0.2.0\n",
      "beautifulsoup4           4.12.2\n",
      "black                    23.3.0\n",
      "bleach                   6.0.0\n",
      "blis                     0.7.11\n",
      "build                    0.10.0\n",
      "catalogue                2.0.10\n",
      "certifi                  2024.2.2\n",
      "cffi                     1.15.1\n",
      "charset-normalizer       3.3.2\n",
      "click                    8.1.7\n",
      "cloudpathlib             0.16.0\n",
      "colorama                 0.4.6\n",
      "comm                     0.1.3\n",
      "confection               0.1.4\n",
      "contourpy                1.2.0\n",
      "cycler                   0.12.1\n",
      "cymem                    2.0.8\n",
      "debugpy                  1.6.7\n",
      "decorator                5.1.1\n",
      "defusedxml               0.7.1\n",
      "en-core-web-sm           3.7.1\n",
      "entrypoints              0.4\n",
      "executing                1.2.0\n",
      "fastjsonschema           2.16.3\n",
      "fonttools                4.50.0\n",
      "fqdn                     1.5.1\n",
      "idna                     3.6\n",
      "ipykernel                6.23.1\n",
      "ipython                  8.13.2\n",
      "isoduration              20.11.0\n",
      "jedi                     0.18.2\n",
      "Jinja2                   3.1.3\n",
      "joblib                   1.3.2\n",
      "json5                    0.9.14\n",
      "jsonpointer              2.3\n",
      "jsonschema               4.17.3\n",
      "jupyter_client           7.4.1\n",
      "jupyter_core             5.3.0\n",
      "jupyter-events           0.6.3\n",
      "jupyter-lsp              2.1.0\n",
      "jupyter-server           1.24.0\n",
      "jupyter_server_terminals 0.4.4\n",
      "jupyterlab               4.0.1\n",
      "jupyterlab-pygments      0.2.2\n",
      "jupyterlab_server        2.22.1\n",
      "kaggle                   1.5.16\n",
      "kiwisolver               1.4.5\n",
      "langcodes                3.3.0\n",
      "MarkupSafe               2.1.5\n",
      "matplotlib               3.8.3\n",
      "matplotlib-inline        0.1.6\n",
      "mistune                  2.0.5\n",
      "murmurhash               1.0.10\n",
      "mypy-extensions          1.0.0\n",
      "nbclient                 0.7.4\n",
      "nbconvert                7.4.0\n",
      "nbformat                 5.8.0\n",
      "nest-asyncio             1.5.6\n",
      "nltk                     3.8.1\n",
      "notebook_shim            0.2.3\n",
      "numpy                    1.26.4\n",
      "packaging                24.0\n",
      "pandas                   2.1.3\n",
      "pandocfilters            1.5.0\n",
      "parso                    0.8.3\n",
      "pathspec                 0.11.1\n",
      "pickleshare              0.7.5\n",
      "pillow                   10.2.0\n",
      "pip                      24.0\n",
      "platformdirs             3.5.1\n",
      "preshed                  3.0.9\n",
      "prometheus-client        0.16.0\n",
      "prompt-toolkit           3.0.38\n",
      "psutil                   5.9.5\n",
      "pure-eval                0.2.2\n",
      "pycparser                2.21\n",
      "pydantic                 2.6.4\n",
      "pydantic_core            2.16.3\n",
      "Pygments                 2.15.1\n",
      "pyparsing                3.1.2\n",
      "pyproject_hooks          1.0.0\n",
      "pyrsistent               0.19.3\n",
      "python-dateutil          2.9.0.post0\n",
      "python-json-logger       2.0.7\n",
      "python-slugify           8.0.1\n",
      "pytz                     2023.3\n",
      "pywin32                  306\n",
      "pywinpty                 2.0.10\n",
      "PyYAML                   6.0\n",
      "pyzmq                    25.0.2\n",
      "regex                    2023.12.25\n",
      "requests                 2.31.0\n",
      "rfc3339-validator        0.1.4\n",
      "rfc3986-validator        0.1.1\n",
      "ruff                     0.0.270\n",
      "scikit-learn             1.3.1\n",
      "scipy                    1.11.3\n",
      "seaborn                  0.12.2\n",
      "Send2Trash               1.8.2\n",
      "setuptools               69.2.0\n",
      "six                      1.16.0\n",
      "smart-open               6.4.0\n",
      "sniffio                  1.3.0\n",
      "soupsieve                2.4.1\n",
      "spacy                    3.7.4\n",
      "spacy-legacy             3.0.12\n",
      "spacy-loggers            1.0.5\n",
      "spacytextblob            4.0.0\n",
      "srsly                    2.4.8\n",
      "stack-data               0.6.2\n",
      "terminado                0.17.1\n",
      "text-unidecode           1.3\n",
      "textblob                 0.15.3\n",
      "thinc                    8.2.3\n",
      "threadpoolctl            3.2.0\n",
      "tinycss2                 1.2.1\n",
      "tornado                  6.3.2\n",
      "tqdm                     4.66.2\n",
      "traitlets                5.9.0\n",
      "typer                    0.9.4\n",
      "typing_extensions        4.10.0\n",
      "tzdata                   2023.3\n",
      "uri-template             1.2.0\n",
      "urllib3                  2.2.1\n",
      "voila                    0.4.0\n",
      "wasabi                   1.1.2\n",
      "wcwidth                  0.2.6\n",
      "weasel                   0.3.4\n",
      "webcolors                1.13\n",
      "webencodings             0.5.1\n",
      "websocket-client         1.5.1\n",
      "websockets               11.0.3\n",
      "wheel                    0.43.0\n"
     ]
    }
   ],
   "source": [
    "\n",
    "import json\n",
    "import pickle\n",
    "\n",
    "import requests\n",
    "import spacy\n",
    "from spacytextblob.spacytextblob import SpacyTextBlob\n",
    "\n",
    "print('All prereqs installed.')\n",
    "!pip list"
   ]
  },
  {
   "cell_type": "markdown",
   "metadata": {},
   "source": [
    "Question 1"
   ]
  },
  {
   "cell_type": "markdown",
   "metadata": {},
   "source": [
    "1. The following code accesses the [lyrics.ovh](https://lyricsovh.docs.apiary.io/#reference/0/lyrics-of-a-song/search) public api, searches for the lyrics of a song, and stores it in a dictionary object.  Write the resulting json to a file (either a JSON file or a pickle file; you choose). You will read in the contents of this file for future questions so we do not need to frequently access the API.\n",
    "\n",
    "Note: The above instructions are not longer working so we will use https://gist.github.com/neloe/e38e4d3283418e096aac80fa48bb66bd // author/poem instead"
   ]
  },
  {
   "cell_type": "code",
   "execution_count": 22,
   "metadata": {},
   "outputs": [
    {
     "name": "stdout",
     "output_type": "stream",
     "text": [
      "Take this kiss upon the brow!\n",
      "And, in parting from you now,\n",
      "Thus much let me avow--\n",
      "You are not wrong, who deem\n",
      "That my days have been a dream:\n",
      "Yet if hope has flown away\n",
      "In a night, or in a day,\n",
      "In a vision or in none,\n",
      "Is it therefore the less _gone_?\n",
      "_All_ that we see or seem\n",
      "Is but a dream within a dream.\n",
      "\n",
      "I stand amid the roar\n",
      "Of a surf-tormented shore,\n",
      "And I hold within my hand\n",
      "Grains of the golden sand--\n",
      "How few! yet how they creep\n",
      "Through my fingers to the deep\n",
      "While I weep--while I weep!\n",
      "O God! can I not grasp\n",
      "Them with a tighter clasp?\n",
      "O God! can I not save\n",
      "_One_ from the pitiless wave?\n",
      "Is _all_ that we see or seem\n",
      "But a dream within a dream?\n"
     ]
    }
   ],
   "source": [
    "# Create and activate a Python virtual environment. \n",
    "# Before starting the project, try all these imports FIRST\n",
    "# Address any errors you get running this code cell \n",
    "# by installing the necessary packages into your active Python environment.\n",
    "# Try to resolve issues using your materials and the web.\n",
    "# If that doesn't work, ask for help in the discussion forums.\n",
    "# You can't complete the exercises until you import these - start early! \n",
    "# We also import json and pickle (included in the Python Standard Library).\n",
    "\n",
    "import requests\n",
    "import json\n",
    "\n",
    "AUTHOR='Edgar Allan Poe'\n",
    "POEM = 'A Dream Within A Dream'\n",
    "\n",
    "#only certain poets and titles are available\n",
    "#to see the available poets, go to (in a web browser)\n",
    "# https://poetrydb.org/author\n",
    "#To see which poems that author has available, go to \n",
    "# https://poetrydb.org/author/AUTHOR NAME\n",
    "# e.g.: https://poetrydb.org/author/Edgar Allan Poe\n",
    "#The spaces will get handled by your web browser\n",
    "\n",
    "# A cool pythonism (introduced in Python 3): f strings\n",
    "# https://docs.python.org/3/tutorial/inputoutput.html#tut-f-strings\n",
    "URL = f'https://poetrydb.org/author,title/{AUTHOR};{POEM}'\n",
    "result = json.loads(requests.get(URL).text)\n",
    "\n",
    "# write the result to a JSON file\n",
    "with open('poem.json', 'w') as file:\n",
    "    json.dump(result, file)\n",
    "    \n",
    "# Print the poem to get results\n",
    "poem = '\\n'.join(result[0]['lines']) \n",
    "print(poem)\n"
   ]
  },
  {
   "cell_type": "markdown",
   "metadata": {},
   "source": [
    "Question 2"
   ]
  },
  {
   "cell_type": "markdown",
   "metadata": {},
   "source": [
    "2. Read in the contents of your file.  Print the lyrics of the song (not the entire dictionary!) and use spaCyTextBlob to perform sentiment analysis on the lyrics.  Print the polarity score of the sentiment analysis.  Given that the range of the polarity score is `[-1.0,1.0]` which corresponds to how positive or negative the text in question is, do you think the lyrics have a more positive or negative connotaion?  Answer this question in a comment in your code cell.\n",
    "\n",
    "Note: The above instructions are not longer working so we will use https://gist.github.com/neloe/e38e4d3283418e096aac80fa48bb66bd // author/poem instead"
   ]
  },
  {
   "cell_type": "code",
   "execution_count": 23,
   "metadata": {},
   "outputs": [
    {
     "name": "stdout",
     "output_type": "stream",
     "text": [
      "Poem Lyrics:\n",
      " Take this kiss upon the brow!\n",
      "And, in parting from you now,\n",
      "Thus much let me avow--\n",
      "You are not wrong, who deem\n",
      "That my days have been a dream:\n",
      "Yet if hope has flown away\n",
      "In a night, or in a day,\n",
      "In a vision or in none,\n",
      "Is it therefore the less _gone_?\n",
      "_All_ that we see or seem\n",
      "Is but a dream within a dream.\n",
      "\n",
      "I stand amid the roar\n",
      "Of a surf-tormented shore,\n",
      "And I hold within my hand\n",
      "Grains of the golden sand--\n",
      "How few! yet how they creep\n",
      "Through my fingers to the deep\n",
      "While I weep--while I weep!\n",
      "O God! can I not grasp\n",
      "Them with a tighter clasp?\n",
      "O God! can I not save\n",
      "_One_ from the pitiless wave?\n",
      "Is _all_ that we see or seem\n",
      "But a dream within a dream?\n",
      "\n",
      "Polarity Score: 0.055555555555555546\n"
     ]
    }
   ],
   "source": [
    "import json\n",
    "import spacy\n",
    "from spacytextblob.spacytextblob import SpacyTextBlob\n",
    "\n",
    "# Read in the contents of the JSON file\n",
    "with open('poem.json', 'r') as file:\n",
    "    result = json.load(file)\n",
    "\n",
    "# Extract the poem's text \n",
    "poem_lines = result[0]['lines']\n",
    "poem_text = '\\n'.join(poem_lines)\n",
    "\n",
    "# Print the lyrics of the poem\n",
    "print(\"Poem Lyrics:\\n\", poem_text)\n",
    "\n",
    "# Perform sentiment analysis on the poem\n",
    "doc = nlp(poem_text)\n",
    "polarity_score = doc._.polarity\n",
    "\n",
    "# Print the polarity score of the sentiment analysis\n",
    "print(\"\\nPolarity Score:\", polarity_score)\n",
    "\n",
    "# With a polarity score of  0.055555555555555546, I would say this is fairly neutral but leaning more towards a positive sentiment. "
   ]
  },
  {
   "cell_type": "markdown",
   "metadata": {},
   "source": [
    "Question 3"
   ]
  },
  {
   "cell_type": "markdown",
   "metadata": {},
   "source": [
    "3. Write a function that takes an artist, song, and filename, accesses the lyrics.ovh api to get the song lyrics, and writes the results to the specified filename.  Test this function by getting the lyrics to any four songs of your choice and storing them in different files.\n"
   ]
  },
  {
   "cell_type": "code",
   "execution_count": 24,
   "metadata": {},
   "outputs": [
    {
     "name": "stdout",
     "output_type": "stream",
     "text": [
      "Lyrics for For Once in My Life by Stevie Wonder written to for_once_in_my_life_lyrics.json\n",
      "Lyrics for Snooze by SZA written to snooze_lyrics.json\n",
      "Lyrics for LOVE YOU BETTER by Future written to LOVE_YOU_BETTER_lyrics.json\n",
      "Lyrics for Whoa by Snoh Aalegra written to whoa_lyrics.json\n"
     ]
    }
   ],
   "source": [
    "import requests\n",
    "import json\n",
    "\n",
    "def write_song_from_api_to_json(artist, song, filename):\n",
    "    url = f\"https://api.lyrics.ovh/v1/{artist}/{song}\"\n",
    "    response = requests.get(url)\n",
    "    if response.status_code == 200:\n",
    "        data = response.json()\n",
    "        with open(filename, 'w') as file:\n",
    "            json.dump(data, file)\n",
    "            print(f\"Lyrics for {song} by {artist} written to {filename}\")\n",
    "    else:\n",
    "        print(f\"Failed to retrieve lyrics for {song} by {artist}\")\n",
    "\n",
    "# Test the function with four songs\n",
    "write_song_from_api_to_json(\"Stevie Wonder\", \"For Once in My Life\", \"for_once_in_my_life_lyrics.json\")\n",
    "write_song_from_api_to_json(\"SZA\", \"Snooze\", \"snooze_lyrics.json\")\n",
    "write_song_from_api_to_json(\"Future\", \"LOVE YOU BETTER\", \"LOVE_YOU_BETTER_lyrics.json\")\n",
    "write_song_from_api_to_json(\"Snoh Aalegra\", \"Whoa\", \"whoa_lyrics.json\")\n",
    "\n"
   ]
  },
  {
   "cell_type": "markdown",
   "metadata": {},
   "source": [
    "Question 4"
   ]
  },
  {
   "cell_type": "markdown",
   "metadata": {},
   "source": [
    "4. Write a function that takes the name of a file that contains song lyrics, loads the file, performs sentiment analysis, and returns the polarity score.  Use this function to print the polarity scores (with the name of the song) of the three files you created in question 3.  Does the reported polarity match your understanding of the song's lyrics? Why or why not do you think that might be?  Answer the questions in either a comment in the code cell or a markdown cell under the code cell.\n"
   ]
  },
  {
   "cell_type": "code",
   "execution_count": 25,
   "metadata": {},
   "outputs": [
    {
     "name": "stdout",
     "output_type": "stream",
     "text": [
      "for_once_in_my_life_lyrics.json: Polarity Score: 0.24259259259259258\n",
      "snooze_lyrics.json: Polarity Score: 0.14413265306122441\n",
      "LOVE_YOU_BETTER_lyrics.json: Polarity Score: 0.44062499999999993\n",
      "whoa_lyrics.json: Polarity Score: 0.17142857142857143\n"
     ]
    }
   ],
   "source": [
    "import json\n",
    "import spacy\n",
    "from spacytextblob.spacytextblob import SpacyTextBlob\n",
    "\n",
    "def calculate_sentiment_polarity(filename):\n",
    "    with open(filename, 'r') as file:\n",
    "        data = json.load(file)\n",
    "        poem = data['lyrics']\n",
    "\n",
    "    nlp = spacy.load('en_core_web_sm')\n",
    "    nlp.add_pipe('spacytextblob')\n",
    "    doc = nlp(poem)\n",
    "    return doc._.polarity\n",
    "\n",
    "# Calculate and print the polarity scores for the three files\n",
    "filenames = filenames = [\"for_once_in_my_life_lyrics.json\", \"snooze_lyrics.json\", \"LOVE_YOU_BETTER_lyrics.json\", \"whoa_lyrics.json\"]\n",
    "\n",
    "for filename in filenames:\n",
    "    polarity_score = calculate_sentiment_polarity(filename)\n",
    "    print(f\"{filename}: Polarity Score: {polarity_score}\")\n",
    "    \n",
    "# "
   ]
  },
  {
   "cell_type": "markdown",
   "metadata": {},
   "source": [
    "Question 4 Reflections"
   ]
  },
  {
   "cell_type": "markdown",
   "metadata": {},
   "source": [
    "| Song Title | Polarity Score | Does Report Polarity Match My Understanding of the Song? | \n",
    "|-----------------|-----------------|-----------------|\n",
    "| For Once in My Life | 0.24259259259259258 | The score suggests it is slightly positive so no. I agree but I expected it to be the most positive in this list.| \n",
    "| Snooze | 0.14413265306122441 | I think this song is fair being neutral but i did expect it to be more positive with lyrics like \"I can lose when i'm with you\". |\n",
    "| LOVE YOU BETTER | 0.44062499999999993 | Considering this song is about someone falling out of love, I did not expect it to be the most positive of the list. I do not agree but see how this can happen because the song does have the words \"love\" repeated often. | \n",
    "| Whoa | 0.17142857142857143 | This one does match my understanding with being fairly positive but mostly neutral. |\n"
   ]
  }
 ],
 "metadata": {
  "kernelspec": {
   "display_name": "Python 3",
   "language": "python",
   "name": "python3"
  },
  "language_info": {
   "codemirror_mode": {
    "name": "ipython",
    "version": 3
   },
   "file_extension": ".py",
   "mimetype": "text/x-python",
   "name": "python",
   "nbconvert_exporter": "python",
   "pygments_lexer": "ipython3",
   "version": "3.11.8"
  }
 },
 "nbformat": 4,
 "nbformat_minor": 4
}
